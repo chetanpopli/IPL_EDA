{
 "metadata": {
  "language_info": {
   "codemirror_mode": {
    "name": "ipython",
    "version": 3
   },
   "file_extension": ".py",
   "mimetype": "text/x-python",
   "name": "python",
   "nbconvert_exporter": "python",
   "pygments_lexer": "ipython3",
   "version": "3.8.5-final"
  },
  "orig_nbformat": 2,
  "kernelspec": {
   "name": "Python 3.8.5 64-bit",
   "display_name": "Python 3.8.5 64-bit",
   "metadata": {
    "interpreter": {
     "hash": "1520c6ce690310d808624767d2bb633cb737d4b22d0ee2534a4b62dd287c3201"
    }
   }
  }
 },
 "nbformat": 4,
 "nbformat_minor": 2,
 "cells": [
  {
   "cell_type": "code",
   "execution_count": 1,
   "metadata": {},
   "outputs": [],
   "source": [
    "import pandas as pd \n",
    "import numpy as np \n",
    "import matplotlib.pyplot as plt\n",
    "import seaborn as sns\n",
    "%matplotlib inline"
   ]
  },
  {
   "cell_type": "code",
   "execution_count": 3,
   "metadata": {},
   "outputs": [],
   "source": [
    "matches = pd.read_csv(r'C:\\Users\\Chetan\\Desktop\\College\\Python\\IPL_EDA\\matches.csv')\n",
    "deliveries = pd.read_csv(r'C:\\Users\\Chetan\\Desktop\\College\\Python\\IPL_EDA\\deliveries.csv')"
   ]
  },
  {
   "cell_type": "code",
   "execution_count": 5,
   "metadata": {},
   "outputs": [
    {
     "output_type": "execute_result",
     "data": {
      "text/plain": "   id  season       city        date                        team1  \\\n0   1    2017  Hyderabad  2017-04-05          Sunrisers Hyderabad   \n1   2    2017       Pune  2017-04-06               Mumbai Indians   \n2   3    2017     Rajkot  2017-04-07                Gujarat Lions   \n3   4    2017     Indore  2017-04-08       Rising Pune Supergiant   \n4   5    2017  Bangalore  2017-04-08  Royal Challengers Bangalore   \n\n                         team2                  toss_winner toss_decision  \\\n0  Royal Challengers Bangalore  Royal Challengers Bangalore         field   \n1       Rising Pune Supergiant       Rising Pune Supergiant         field   \n2        Kolkata Knight Riders        Kolkata Knight Riders         field   \n3              Kings XI Punjab              Kings XI Punjab         field   \n4             Delhi Daredevils  Royal Challengers Bangalore           bat   \n\n   result  dl_applied                       winner  win_by_runs  \\\n0  normal           0          Sunrisers Hyderabad           35   \n1  normal           0       Rising Pune Supergiant            0   \n2  normal           0        Kolkata Knight Riders            0   \n3  normal           0              Kings XI Punjab            0   \n4  normal           0  Royal Challengers Bangalore           15   \n\n   win_by_wickets player_of_match                                      venue  \\\n0               0    Yuvraj Singh  Rajiv Gandhi International Stadium, Uppal   \n1               7       SPD Smith    Maharashtra Cricket Association Stadium   \n2              10         CA Lynn     Saurashtra Cricket Association Stadium   \n3               6      GJ Maxwell                     Holkar Cricket Stadium   \n4               0       KM Jadhav                      M Chinnaswamy Stadium   \n\n          umpire1        umpire2 umpire3  \n0     AY Dandekar       NJ Llong     NaN  \n1  A Nand Kishore         S Ravi     NaN  \n2     Nitin Menon      CK Nandan     NaN  \n3    AK Chaudhary  C Shamshuddin     NaN  \n4             NaN            NaN     NaN  ",
      "text/html": "<div>\n<style scoped>\n    .dataframe tbody tr th:only-of-type {\n        vertical-align: middle;\n    }\n\n    .dataframe tbody tr th {\n        vertical-align: top;\n    }\n\n    .dataframe thead th {\n        text-align: right;\n    }\n</style>\n<table border=\"1\" class=\"dataframe\">\n  <thead>\n    <tr style=\"text-align: right;\">\n      <th></th>\n      <th>id</th>\n      <th>season</th>\n      <th>city</th>\n      <th>date</th>\n      <th>team1</th>\n      <th>team2</th>\n      <th>toss_winner</th>\n      <th>toss_decision</th>\n      <th>result</th>\n      <th>dl_applied</th>\n      <th>winner</th>\n      <th>win_by_runs</th>\n      <th>win_by_wickets</th>\n      <th>player_of_match</th>\n      <th>venue</th>\n      <th>umpire1</th>\n      <th>umpire2</th>\n      <th>umpire3</th>\n    </tr>\n  </thead>\n  <tbody>\n    <tr>\n      <th>0</th>\n      <td>1</td>\n      <td>2017</td>\n      <td>Hyderabad</td>\n      <td>2017-04-05</td>\n      <td>Sunrisers Hyderabad</td>\n      <td>Royal Challengers Bangalore</td>\n      <td>Royal Challengers Bangalore</td>\n      <td>field</td>\n      <td>normal</td>\n      <td>0</td>\n      <td>Sunrisers Hyderabad</td>\n      <td>35</td>\n      <td>0</td>\n      <td>Yuvraj Singh</td>\n      <td>Rajiv Gandhi International Stadium, Uppal</td>\n      <td>AY Dandekar</td>\n      <td>NJ Llong</td>\n      <td>NaN</td>\n    </tr>\n    <tr>\n      <th>1</th>\n      <td>2</td>\n      <td>2017</td>\n      <td>Pune</td>\n      <td>2017-04-06</td>\n      <td>Mumbai Indians</td>\n      <td>Rising Pune Supergiant</td>\n      <td>Rising Pune Supergiant</td>\n      <td>field</td>\n      <td>normal</td>\n      <td>0</td>\n      <td>Rising Pune Supergiant</td>\n      <td>0</td>\n      <td>7</td>\n      <td>SPD Smith</td>\n      <td>Maharashtra Cricket Association Stadium</td>\n      <td>A Nand Kishore</td>\n      <td>S Ravi</td>\n      <td>NaN</td>\n    </tr>\n    <tr>\n      <th>2</th>\n      <td>3</td>\n      <td>2017</td>\n      <td>Rajkot</td>\n      <td>2017-04-07</td>\n      <td>Gujarat Lions</td>\n      <td>Kolkata Knight Riders</td>\n      <td>Kolkata Knight Riders</td>\n      <td>field</td>\n      <td>normal</td>\n      <td>0</td>\n      <td>Kolkata Knight Riders</td>\n      <td>0</td>\n      <td>10</td>\n      <td>CA Lynn</td>\n      <td>Saurashtra Cricket Association Stadium</td>\n      <td>Nitin Menon</td>\n      <td>CK Nandan</td>\n      <td>NaN</td>\n    </tr>\n    <tr>\n      <th>3</th>\n      <td>4</td>\n      <td>2017</td>\n      <td>Indore</td>\n      <td>2017-04-08</td>\n      <td>Rising Pune Supergiant</td>\n      <td>Kings XI Punjab</td>\n      <td>Kings XI Punjab</td>\n      <td>field</td>\n      <td>normal</td>\n      <td>0</td>\n      <td>Kings XI Punjab</td>\n      <td>0</td>\n      <td>6</td>\n      <td>GJ Maxwell</td>\n      <td>Holkar Cricket Stadium</td>\n      <td>AK Chaudhary</td>\n      <td>C Shamshuddin</td>\n      <td>NaN</td>\n    </tr>\n    <tr>\n      <th>4</th>\n      <td>5</td>\n      <td>2017</td>\n      <td>Bangalore</td>\n      <td>2017-04-08</td>\n      <td>Royal Challengers Bangalore</td>\n      <td>Delhi Daredevils</td>\n      <td>Royal Challengers Bangalore</td>\n      <td>bat</td>\n      <td>normal</td>\n      <td>0</td>\n      <td>Royal Challengers Bangalore</td>\n      <td>15</td>\n      <td>0</td>\n      <td>KM Jadhav</td>\n      <td>M Chinnaswamy Stadium</td>\n      <td>NaN</td>\n      <td>NaN</td>\n      <td>NaN</td>\n    </tr>\n  </tbody>\n</table>\n</div>"
     },
     "metadata": {},
     "execution_count": 5
    }
   ],
   "source": [
    "matches.head()"
   ]
  },
  {
   "cell_type": "code",
   "execution_count": 6,
   "metadata": {},
   "outputs": [
    {
     "output_type": "execute_result",
     "data": {
      "text/plain": "   match_id  inning         batting_team                 bowling_team  over  \\\n0         1       1  Sunrisers Hyderabad  Royal Challengers Bangalore     1   \n1         1       1  Sunrisers Hyderabad  Royal Challengers Bangalore     1   \n2         1       1  Sunrisers Hyderabad  Royal Challengers Bangalore     1   \n3         1       1  Sunrisers Hyderabad  Royal Challengers Bangalore     1   \n4         1       1  Sunrisers Hyderabad  Royal Challengers Bangalore     1   \n\n   ball    batsman non_striker    bowler  is_super_over  ...  bye_runs  \\\n0     1  DA Warner    S Dhawan  TS Mills              0  ...         0   \n1     2  DA Warner    S Dhawan  TS Mills              0  ...         0   \n2     3  DA Warner    S Dhawan  TS Mills              0  ...         0   \n3     4  DA Warner    S Dhawan  TS Mills              0  ...         0   \n4     5  DA Warner    S Dhawan  TS Mills              0  ...         0   \n\n   legbye_runs  noball_runs  penalty_runs  batsman_runs  extra_runs  \\\n0            0            0             0             0           0   \n1            0            0             0             0           0   \n2            0            0             0             4           0   \n3            0            0             0             0           0   \n4            0            0             0             0           2   \n\n   total_runs  player_dismissed dismissal_kind fielder  \n0           0               NaN            NaN     NaN  \n1           0               NaN            NaN     NaN  \n2           4               NaN            NaN     NaN  \n3           0               NaN            NaN     NaN  \n4           2               NaN            NaN     NaN  \n\n[5 rows x 21 columns]",
      "text/html": "<div>\n<style scoped>\n    .dataframe tbody tr th:only-of-type {\n        vertical-align: middle;\n    }\n\n    .dataframe tbody tr th {\n        vertical-align: top;\n    }\n\n    .dataframe thead th {\n        text-align: right;\n    }\n</style>\n<table border=\"1\" class=\"dataframe\">\n  <thead>\n    <tr style=\"text-align: right;\">\n      <th></th>\n      <th>match_id</th>\n      <th>inning</th>\n      <th>batting_team</th>\n      <th>bowling_team</th>\n      <th>over</th>\n      <th>ball</th>\n      <th>batsman</th>\n      <th>non_striker</th>\n      <th>bowler</th>\n      <th>is_super_over</th>\n      <th>...</th>\n      <th>bye_runs</th>\n      <th>legbye_runs</th>\n      <th>noball_runs</th>\n      <th>penalty_runs</th>\n      <th>batsman_runs</th>\n      <th>extra_runs</th>\n      <th>total_runs</th>\n      <th>player_dismissed</th>\n      <th>dismissal_kind</th>\n      <th>fielder</th>\n    </tr>\n  </thead>\n  <tbody>\n    <tr>\n      <th>0</th>\n      <td>1</td>\n      <td>1</td>\n      <td>Sunrisers Hyderabad</td>\n      <td>Royal Challengers Bangalore</td>\n      <td>1</td>\n      <td>1</td>\n      <td>DA Warner</td>\n      <td>S Dhawan</td>\n      <td>TS Mills</td>\n      <td>0</td>\n      <td>...</td>\n      <td>0</td>\n      <td>0</td>\n      <td>0</td>\n      <td>0</td>\n      <td>0</td>\n      <td>0</td>\n      <td>0</td>\n      <td>NaN</td>\n      <td>NaN</td>\n      <td>NaN</td>\n    </tr>\n    <tr>\n      <th>1</th>\n      <td>1</td>\n      <td>1</td>\n      <td>Sunrisers Hyderabad</td>\n      <td>Royal Challengers Bangalore</td>\n      <td>1</td>\n      <td>2</td>\n      <td>DA Warner</td>\n      <td>S Dhawan</td>\n      <td>TS Mills</td>\n      <td>0</td>\n      <td>...</td>\n      <td>0</td>\n      <td>0</td>\n      <td>0</td>\n      <td>0</td>\n      <td>0</td>\n      <td>0</td>\n      <td>0</td>\n      <td>NaN</td>\n      <td>NaN</td>\n      <td>NaN</td>\n    </tr>\n    <tr>\n      <th>2</th>\n      <td>1</td>\n      <td>1</td>\n      <td>Sunrisers Hyderabad</td>\n      <td>Royal Challengers Bangalore</td>\n      <td>1</td>\n      <td>3</td>\n      <td>DA Warner</td>\n      <td>S Dhawan</td>\n      <td>TS Mills</td>\n      <td>0</td>\n      <td>...</td>\n      <td>0</td>\n      <td>0</td>\n      <td>0</td>\n      <td>0</td>\n      <td>4</td>\n      <td>0</td>\n      <td>4</td>\n      <td>NaN</td>\n      <td>NaN</td>\n      <td>NaN</td>\n    </tr>\n    <tr>\n      <th>3</th>\n      <td>1</td>\n      <td>1</td>\n      <td>Sunrisers Hyderabad</td>\n      <td>Royal Challengers Bangalore</td>\n      <td>1</td>\n      <td>4</td>\n      <td>DA Warner</td>\n      <td>S Dhawan</td>\n      <td>TS Mills</td>\n      <td>0</td>\n      <td>...</td>\n      <td>0</td>\n      <td>0</td>\n      <td>0</td>\n      <td>0</td>\n      <td>0</td>\n      <td>0</td>\n      <td>0</td>\n      <td>NaN</td>\n      <td>NaN</td>\n      <td>NaN</td>\n    </tr>\n    <tr>\n      <th>4</th>\n      <td>1</td>\n      <td>1</td>\n      <td>Sunrisers Hyderabad</td>\n      <td>Royal Challengers Bangalore</td>\n      <td>1</td>\n      <td>5</td>\n      <td>DA Warner</td>\n      <td>S Dhawan</td>\n      <td>TS Mills</td>\n      <td>0</td>\n      <td>...</td>\n      <td>0</td>\n      <td>0</td>\n      <td>0</td>\n      <td>0</td>\n      <td>0</td>\n      <td>2</td>\n      <td>2</td>\n      <td>NaN</td>\n      <td>NaN</td>\n      <td>NaN</td>\n    </tr>\n  </tbody>\n</table>\n<p>5 rows × 21 columns</p>\n</div>"
     },
     "metadata": {},
     "execution_count": 6
    }
   ],
   "source": [
    "deliveries.head()"
   ]
  },
  {
   "cell_type": "code",
   "execution_count": null,
   "metadata": {},
   "outputs": [],
   "source": []
  }
 ]
}